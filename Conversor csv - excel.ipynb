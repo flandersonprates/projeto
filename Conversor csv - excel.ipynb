{
 "cells": [
  {
   "cell_type": "code",
   "execution_count": 9,
   "id": "569e732c",
   "metadata": {},
   "outputs": [
    {
     "name": "stdout",
     "output_type": "stream",
     "text": [
      "Digite o nome do arquivo: cadastro\n",
      "Digite o nome do arquivo que irá ser salvo: deu_certo\n",
      "Arquivo deu_certo.xlsx convertido com sucesso!\n"
     ]
    }
   ],
   "source": [
    "#importação das bibliotecas\n",
    "import pandas as pd\n",
    "\n",
    "digite_arquivo = input('Digite o nome do arquivo: ') #leitura do arquivo CSV\n",
    "digite_arquivo = digite_arquivo + '.csv' #acrescentando o .csv na frente do nome digitado\n",
    "clientes = pd.read_csv(digite_arquivo) #buscando o arquivo pelo nome digitado\n",
    "\n",
    "def conversor(arquivo_csv): #função para converter o arquivo csv em xlsx\n",
    "    nome_arquivo = input('Digite o nome do arquivo que irá ser salvo: ')\n",
    "    extensao = '.xlsx' \n",
    "    nome_arquivo = nome_arquivo + extensao #acrescentando a extensao .xlsx ao nome do arquivo escolhido e digitado pelo usuario\n",
    "    clientes.to_excel(nome_arquivo)\n",
    "    print(f'Arquivo {nome_arquivo} convertido com sucesso!')\n",
    "    \n",
    "conversor(clientes)\n",
    "\n"
   ]
  },
  {
   "cell_type": "code",
   "execution_count": null,
   "id": "32357000",
   "metadata": {},
   "outputs": [],
   "source": []
  },
  {
   "cell_type": "code",
   "execution_count": null,
   "id": "31296a31",
   "metadata": {},
   "outputs": [],
   "source": []
  },
  {
   "cell_type": "code",
   "execution_count": null,
   "id": "e84cfee5",
   "metadata": {},
   "outputs": [],
   "source": []
  }
 ],
 "metadata": {
  "kernelspec": {
   "display_name": "Python 3 (ipykernel)",
   "language": "python",
   "name": "python3"
  },
  "language_info": {
   "codemirror_mode": {
    "name": "ipython",
    "version": 3
   },
   "file_extension": ".py",
   "mimetype": "text/x-python",
   "name": "python",
   "nbconvert_exporter": "python",
   "pygments_lexer": "ipython3",
   "version": "3.9.12"
  }
 },
 "nbformat": 4,
 "nbformat_minor": 5
}
